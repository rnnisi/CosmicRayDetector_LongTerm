{
 "cells": [
  {
   "cell_type": "markdown",
   "metadata": {},
   "source": [
    "# First Meeting \n",
    "### [RN] 2/26/21 1PM\n",
    "\n",
    "We are meeting the TA and discussing each project. \n",
    "\n",
    "Keegan says he knows some stuff that might help our project. \n",
    "\n",
    "We can turn in a lab report together. \n",
    "\n",
    "Ill make some rough plots and talk with katherine to start lit review early next week.\n"
   ]
  },
  {
   "cell_type": "code",
   "execution_count": null,
   "metadata": {},
   "outputs": [],
   "source": []
  }
 ],
 "metadata": {
  "kernelspec": {
   "display_name": "Python 3",
   "language": "python",
   "name": "python3"
  },
  "language_info": {
   "codemirror_mode": {
    "name": "ipython",
    "version": 3
   },
   "file_extension": ".py",
   "mimetype": "text/x-python",
   "name": "python",
   "nbconvert_exporter": "python",
   "pygments_lexer": "ipython3",
   "version": "3.7.3"
  }
 },
 "nbformat": 4,
 "nbformat_minor": 2
}
