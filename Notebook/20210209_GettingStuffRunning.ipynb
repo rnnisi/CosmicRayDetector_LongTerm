{
 "cells": [
  {
   "cell_type": "markdown",
   "metadata": {},
   "source": [
    "# Getting everything online \n",
    "### [RN] 2/9/2021\n",
    "\n",
    "First I checked that my code was still working. \n",
    "\n",
    "This is the output of my ReadOut.py: \n",
    "~~~\n",
    "2021-02-09 17:17:47.651836\n",
    "2021-02-09 17:17:49.297798\n",
    "2021-02-09 17:17:50.901000\n",
    "2021-02-09 17:17:52.093168\n",
    "2021-02-09 17:17:53.659338\n",
    "2021-02-09 17:17:57.916808\n",
    "2021-02-09 17:18:02.152689\n",
    "2021-02-09 17:18:03.976923\n",
    "2021-02-09 17:18:05.785206\n",
    "2021-02-09 17:18:09.057946\n",
    "~~~\n",
    "Still looks good! "
   ]
  },
  {
   "cell_type": "markdown",
   "metadata": {},
   "source": [
    "## Making the scraper \n",
    "\n",
    "Ill be using some shell scripting to get the data. \n",
    "\n",
    "Since the html on the NOAA site (https://forecast.weather.gov/data/obhistory/metric/KSBA.html). My plan is to update data every hour, so I will run the scraper once an hour to add the data file from the cosmic ray detector with the weather for that hour. So the scraper should just return the first line of the NOAA table. \n",
    "\n",
    "In my terminal, \n",
    "\n",
    "~~~\n",
    "curl https://forecast.weather.gov/data/obhistory/metric/KSBA.html | grep \"<td>\" | grep -m 1 \":\"\n",
    "~~~~\n",
    "gives me the first line of HTML. I need to chop that up to extract the values. Also, the order of the data is: \n",
    "\n",
    "~~~\n",
    "date, time (PST), wind (k/hr), visibility (km), weather, sky conditions, air temperature (C), dewpoint(C), 6hr Temp Max (C), 6hr Temp Min (C), Relative Humidity, wind chill (C), Heat index (C), altimeter pressure (cm), sea level pressure (mb), precipitation 1hr, precipitation 3hr, precipitation 6hr\n",
    "\n",
    "~~~\n",
    "\n"
   ]
  },
  {
   "cell_type": "code",
   "execution_count": null,
   "metadata": {},
   "outputs": [],
   "source": []
  }
 ],
 "metadata": {
  "kernelspec": {
   "display_name": "Python 3",
   "language": "python",
   "name": "python3"
  },
  "language_info": {
   "codemirror_mode": {
    "name": "ipython",
    "version": 3
   },
   "file_extension": ".py",
   "mimetype": "text/x-python",
   "name": "python",
   "nbconvert_exporter": "python",
   "pygments_lexer": "ipython3",
   "version": "3.7.3"
  }
 },
 "nbformat": 4,
 "nbformat_minor": 2
}
